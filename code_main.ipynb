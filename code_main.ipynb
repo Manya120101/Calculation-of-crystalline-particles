{
 "cells": [
  {
   "cell_type": "code",
   "execution_count": null,
   "metadata": {},
   "outputs": [],
   "source": [
    "pip install --upgrade MDAnalysis[analysis]"
   ]
  },
  {
   "cell_type": "code",
   "execution_count": null,
   "metadata": {},
   "outputs": [],
   "source": [
    "pip install --upgrade MDAnalysisTests"
   ]
  },
  {
   "cell_type": "code",
   "execution_count": 6,
   "metadata": {},
   "outputs": [
    {
     "name": "stderr",
     "output_type": "stream",
     "text": [
      "/home/codespace/.python/current/lib/python3.10/site-packages/tqdm/auto.py:21: TqdmWarning: IProgress not found. Please update jupyter and ipywidgets. See https://ipywidgets.readthedocs.io/en/stable/user_install.html\n",
      "  from .autonotebook import tqdm as notebook_tqdm\n"
     ]
    }
   ],
   "source": [
    "import MDAnalysis as mda\n",
    "from MDAnalysis import Universe\n",
    "from MDAnalysis.tests.datafiles import PDB, GRO, XTC,TPR\n",
    "import pandas as pd\n",
    "import numpy as np\n",
    "import math\n",
    "import matplotlib.pyplot as plt\n",
    "from numpy.linalg import norm\n",
    "from numpy import array\n",
    "import matplotlib.pyplot as plt\n",
    "from MDAnalysis.analysis import distances\n",
    "import MDAnalysis.lib.mdamath as math_help"
   ]
  },
  {
   "cell_type": "code",
   "execution_count": 1,
   "metadata": {},
   "outputs": [],
   "source": [
    "#Calculating the number of crystalline molecules around a given molecule \n",
    "def calc_nc(all_grp,res_num,cutoff):\n",
    "    \"\"\"this function calculates the number of crystalline molecules,\n",
    "        it requires the residues of all the molecules (all_grp),\n",
    "        res_num is a specific residue number around which you wish to calculate crystalline molecules,\n",
    "        cutoff specifies the radial distance within which number of molecules are estimated,\n",
    "        nc gives the desired output\"\"\"\n",
    "    g1=all_grp.select_atoms('resid {0}'.format(res_num))\n",
    "    com_1=g1.center_of_mass(compound='residues')\n",
    "    g2=all_grp.select_atoms('resid {0}-{1}'.format(1,res_num-1),'resid {0}-{1}'.format(res_num+1,all_grp.resnums[-1]))\n",
    "    com_2=g2.center_of_mass(compound='residues')\n",
    "    dist=(distances.distance_array(com_1,com_2,all_grp.dimensions))/10 # distances are converted in nm when divided by 10\n",
    "    nc=0\n",
    "    for i in dist[0]:\n",
    "        if i<cutoff:\n",
    "            nc+=1\n",
    "    return(nc)            "
   ]
  },
  {
   "cell_type": "code",
   "execution_count": null,
   "metadata": {},
   "outputs": [],
   "source": [
    "optimum_nc=calc_nc(all_grp,res_num,cutoff)"
   ]
  },
  {
   "cell_type": "code",
   "execution_count": 2,
   "metadata": {},
   "outputs": [],
   "source": [
    "def local_density(res_num_i,sd):\n",
    "    \"\"\" this function calculates local density contribution from a given molecule(res_num_i)\n",
    "     sd stands for standard deviation associated with nc  \"\"\"\n",
    "    nc=calc_nc(all_grp,res_num_i,cutoff)\n",
    "    if calc_nc(res_num_i)<=optimum_nc:\n",
    "        local_density=math.exp(-(nc-optimum_nc)**2/(2*(sd**2)))\n",
    "    else:\n",
    "        local_density=1\n",
    "    return(local_density)        "
   ]
  },
  {
   "cell_type": "code",
   "execution_count": null,
   "metadata": {},
   "outputs": [],
   "source": [
    "def local_order(vector_1,vector_2,theta_0,theta_1,sd_0,sd_1):\n",
    "    \"\"\"this function calculates the local_order for a given residue\n",
    "    theta_0 and theta_1 are the angles most commonly observed in the crystal lattice for a specific bond vector\n",
    "    sd_0 and sd_1 are the correspomding standard deviations associated with the gaussian distributions of theta_0 and theta_1\"\"\"\n",
    "    angle_radians=math_help.angle(vector_2[0],vector_1[0])\n",
    "    local_order_contri=math.exp(-(angle_radians-theta_0)**2/(2*(sd_0**2))) + math.exp(-(angle_radians-theta_1)**2/(2*(sd_1**2)))\n",
    "    return(local_order_contri)"
   ]
  },
  {
   "cell_type": "markdown",
   "metadata": {},
   "source": [
    "---Main block starts here---"
   ]
  },
  {
   "cell_type": "code",
   "execution_count": null,
   "metadata": {},
   "outputs": [],
   "source": [
    "#num_crystalline stores the total number of crystalline molecules for entire trajectory\n",
    "num_crystalline=[]\n",
    "for ts in all_grp.trajectory:\n",
    "  contribution=0\n",
    "  for i in f.residues:\n",
    "    g1=all_grp.select_atoms('resid {0}'.format(i.resid))\n",
    "    c1=g1.center_of_mass(compound='residues')\n",
    "    g2=all_grp.select_atoms('resid {0}-{1}'.format(1,i.resid-1),'resid {0}-{1}'.format(i.resid+1,456))\n",
    "    c2=g2.center_of_mass(compound='residues')\n",
    "    dist_arr=distances.distance_array(c1,c2,all_grp.dimensions)/10 \n",
    "    #defining the vector along carbonyl bond for the chosen residue\n",
    "    v1_atom_1=all_grp.select_atoms('resid {0} and name C'.format(i.resid))\n",
    "    v1_atom_2=all_grp.select_atoms('resid {0} and name O'.format(i.resid))\n",
    "    v1=v1_atom_2.positions-v1_atom_1.positions\n",
    "    nc=0\n",
    "    counter=1\n",
    "    local_order=0\n",
    "    for j in dist_arr[0]:\n",
    "      if j<cutoff:\n",
    "        v2_atom_1=f.select_atoms('resid {0} and name C'.format(counter))\n",
    "        v2_atom_2=f.select_atoms('resid {0} and name O'.format(counter))\n",
    "        v2=v2_atom_2.positions-v2_atom_1.positions\n",
    "        local_order_contri=local_order_contri(v1,v2,theta_0,theta_1,sd_angle_0,sd_angle_1)\n",
    "        local_order=local_order+local_order_contri\n",
    "      counter+=1\n",
    "    if local_density(i,sd_num)!=0:\n",
    "      local_order=local_order/local_density()\n",
    "    local_density=local_density(i,sd_num)\n",
    "    contribution=contribution+(local_density*local_order)\n",
    "  num_crystalline.append(contribution)"
   ]
  },
  {
   "cell_type": "code",
   "execution_count": null,
   "metadata": {},
   "outputs": [],
   "source": [
    "all_grp=mda.Universe(f1,f2)\n",
    "#f1 is a .tpr file(the topology file) \n",
    "#f2 is a .gro/.xtc file\n"
   ]
  },
  {
   "cell_type": "code",
   "execution_count": null,
   "metadata": {},
   "outputs": [],
   "source": [
    "# the time of the frames is stored in timestep\n",
    "timestep=[]\n",
    "for ts in all_grp.trajectory[1:400]:\n",
    "  timestep.append(ts.time/1000)"
   ]
  },
  {
   "cell_type": "code",
   "execution_count": null,
   "metadata": {},
   "outputs": [],
   "source": [
    "#plot of number of crystalline molecules as a function of time\n",
    "plt.plot(timestep,num_crystalline)\n",
    "plt.xlabel(\"time(ns)\",fontsize=15,weight=\"bold\")\n",
    "plt.ylabel(\"Nc\",fontsize=15,weight=\"bold\")\n",
    "plt.grid()\n",
    "plt.show()"
   ]
  }
 ],
 "metadata": {
  "kernelspec": {
   "display_name": "Python 3 (ipykernel)",
   "language": "python",
   "name": "python3"
  },
  "language_info": {
   "codemirror_mode": {
    "name": "ipython",
    "version": 3
   },
   "file_extension": ".py",
   "mimetype": "text/x-python",
   "name": "python",
   "nbconvert_exporter": "python",
   "pygments_lexer": "ipython3",
   "version": "3.10.13"
  }
 },
 "nbformat": 4,
 "nbformat_minor": 2
}
