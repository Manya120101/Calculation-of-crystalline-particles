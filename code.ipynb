{
 "cells": [
  {
   "cell_type": "code",
   "execution_count": 4,
   "metadata": {},
   "outputs": [
    {
     "name": "stdout",
     "output_type": "stream",
     "text": [
      "Collecting MDAnalysis[analysis]\n",
      "  Downloading MDAnalysis-2.7.0-cp310-cp310-manylinux_2_17_x86_64.manylinux2014_x86_64.whl.metadata (46 kB)\n",
      "\u001b[2K     \u001b[90m━━━━━━━━━━━━━━━━━━━━━━━━━━━━━━━━━━━━━━━\u001b[0m \u001b[32m46.6/46.6 kB\u001b[0m \u001b[31m414.9 kB/s\u001b[0m eta \u001b[36m0:00:00\u001b[0ma \u001b[36m0:00:01\u001b[0m\n",
      "\u001b[?25hRequirement already satisfied: numpy<2.0,>=1.22.3 in /home/codespace/.local/lib/python3.10/site-packages (from MDAnalysis[analysis]) (1.26.4)\n",
      "Collecting GridDataFormats>=0.4.0 (from MDAnalysis[analysis])\n",
      "  Downloading GridDataFormats-1.0.2-py3-none-any.whl.metadata (4.9 kB)\n",
      "Collecting mmtf-python>=1.0.0 (from MDAnalysis[analysis])\n",
      "  Downloading mmtf_python-1.1.3-py2.py3-none-any.whl.metadata (1.2 kB)\n",
      "Requirement already satisfied: joblib>=0.12 in /home/codespace/.local/lib/python3.10/site-packages (from MDAnalysis[analysis]) (1.3.2)\n",
      "Requirement already satisfied: scipy>=1.5.0 in /home/codespace/.local/lib/python3.10/site-packages (from MDAnalysis[analysis]) (1.12.0)\n",
      "Requirement already satisfied: matplotlib>=1.5.1 in /home/codespace/.local/lib/python3.10/site-packages (from MDAnalysis[analysis]) (3.8.3)\n",
      "Collecting tqdm>=4.43.0 (from MDAnalysis[analysis])\n",
      "  Downloading tqdm-4.66.2-py3-none-any.whl.metadata (57 kB)\n",
      "\u001b[2K     \u001b[90m━━━━━━━━━━━━━━━━━━━━━━━━━━━━━━━━━━━━━━━\u001b[0m \u001b[32m57.6/57.6 kB\u001b[0m \u001b[31m982.2 kB/s\u001b[0m eta \u001b[36m0:00:00\u001b[0m \u001b[36m0:00:01\u001b[0m\n",
      "\u001b[?25hRequirement already satisfied: threadpoolctl in /home/codespace/.local/lib/python3.10/site-packages (from MDAnalysis[analysis]) (3.3.0)\n",
      "Requirement already satisfied: packaging in /home/codespace/.local/lib/python3.10/site-packages (from MDAnalysis[analysis]) (23.2)\n",
      "Collecting fasteners (from MDAnalysis[analysis])\n",
      "  Downloading fasteners-0.19-py3-none-any.whl.metadata (4.9 kB)\n",
      "Collecting mda-xdrlib (from MDAnalysis[analysis])\n",
      "  Downloading mda_xdrlib-0.2.0-py3-none-any.whl.metadata (19 kB)\n",
      "Collecting biopython>=1.80 (from MDAnalysis[analysis])\n",
      "  Downloading biopython-1.83-cp310-cp310-manylinux_2_17_x86_64.manylinux2014_x86_64.whl.metadata (13 kB)\n",
      "Requirement already satisfied: seaborn in /home/codespace/.local/lib/python3.10/site-packages (from MDAnalysis[analysis]) (0.13.2)\n",
      "Requirement already satisfied: scikit-learn in /home/codespace/.local/lib/python3.10/site-packages (from MDAnalysis[analysis]) (1.4.1.post1)\n",
      "Collecting tidynamics>=1.0.0 (from MDAnalysis[analysis])\n",
      "  Downloading tidynamics-1.1.2-py3-none-any.whl.metadata (3.8 kB)\n",
      "Requirement already satisfied: networkx>=2.0 in /home/codespace/.local/lib/python3.10/site-packages (from MDAnalysis[analysis]) (3.2.1)\n",
      "Collecting mrcfile (from GridDataFormats>=0.4.0->MDAnalysis[analysis])\n",
      "  Downloading mrcfile-1.5.0-py2.py3-none-any.whl.metadata (6.9 kB)\n",
      "Requirement already satisfied: contourpy>=1.0.1 in /home/codespace/.local/lib/python3.10/site-packages (from matplotlib>=1.5.1->MDAnalysis[analysis]) (1.2.0)\n",
      "Requirement already satisfied: cycler>=0.10 in /home/codespace/.local/lib/python3.10/site-packages (from matplotlib>=1.5.1->MDAnalysis[analysis]) (0.12.1)\n",
      "Requirement already satisfied: fonttools>=4.22.0 in /home/codespace/.local/lib/python3.10/site-packages (from matplotlib>=1.5.1->MDAnalysis[analysis]) (4.49.0)\n",
      "Requirement already satisfied: kiwisolver>=1.3.1 in /home/codespace/.local/lib/python3.10/site-packages (from matplotlib>=1.5.1->MDAnalysis[analysis]) (1.4.5)\n",
      "Requirement already satisfied: pillow>=8 in /home/codespace/.local/lib/python3.10/site-packages (from matplotlib>=1.5.1->MDAnalysis[analysis]) (10.2.0)\n",
      "Requirement already satisfied: pyparsing>=2.3.1 in /home/codespace/.local/lib/python3.10/site-packages (from matplotlib>=1.5.1->MDAnalysis[analysis]) (3.1.1)\n",
      "Requirement already satisfied: python-dateutil>=2.7 in /home/codespace/.local/lib/python3.10/site-packages (from matplotlib>=1.5.1->MDAnalysis[analysis]) (2.9.0.post0)\n",
      "Collecting msgpack>=1.0.0 (from mmtf-python>=1.0.0->MDAnalysis[analysis])\n",
      "  Downloading msgpack-1.0.8-cp310-cp310-manylinux_2_17_x86_64.manylinux2014_x86_64.whl.metadata (9.1 kB)\n",
      "Requirement already satisfied: pandas>=1.2 in /home/codespace/.local/lib/python3.10/site-packages (from seaborn->MDAnalysis[analysis]) (2.2.1)\n",
      "Requirement already satisfied: pytz>=2020.1 in /home/codespace/.local/lib/python3.10/site-packages (from pandas>=1.2->seaborn->MDAnalysis[analysis]) (2024.1)\n",
      "Requirement already satisfied: tzdata>=2022.7 in /home/codespace/.local/lib/python3.10/site-packages (from pandas>=1.2->seaborn->MDAnalysis[analysis]) (2024.1)\n",
      "Requirement already satisfied: six>=1.5 in /home/codespace/.local/lib/python3.10/site-packages (from python-dateutil>=2.7->matplotlib>=1.5.1->MDAnalysis[analysis]) (1.16.0)\n",
      "Downloading biopython-1.83-cp310-cp310-manylinux_2_17_x86_64.manylinux2014_x86_64.whl (3.1 MB)\n",
      "\u001b[2K   \u001b[90m━━━━━━━━━━━━━━━━━━━━━━━━━━━━━━━━━━━━━━━━\u001b[0m \u001b[32m3.1/3.1 MB\u001b[0m \u001b[31m10.4 MB/s\u001b[0m eta \u001b[36m0:00:00\u001b[0m00:01\u001b[0m0:01\u001b[0m\n",
      "\u001b[?25hDownloading GridDataFormats-1.0.2-py3-none-any.whl (2.1 MB)\n",
      "\u001b[2K   \u001b[90m━━━━━━━━━━━━━━━━━━━━━━━━━━━━━━━━━━━━━━━━\u001b[0m \u001b[32m2.1/2.1 MB\u001b[0m \u001b[31m29.8 MB/s\u001b[0m eta \u001b[36m0:00:00\u001b[0m:00:01\u001b[0m\n",
      "\u001b[?25hDownloading mmtf_python-1.1.3-py2.py3-none-any.whl (25 kB)\n",
      "Downloading tidynamics-1.1.2-py3-none-any.whl (6.5 kB)\n",
      "Downloading tqdm-4.66.2-py3-none-any.whl (78 kB)\n",
      "\u001b[2K   \u001b[90m━━━━━━━━━━━━━━━━━━━━━━━━━━━━━━━━━━━━━━━━\u001b[0m \u001b[32m78.3/78.3 kB\u001b[0m \u001b[31m1.9 MB/s\u001b[0m eta \u001b[36m0:00:00\u001b[0meta \u001b[36m0:00:01\u001b[0m\n",
      "\u001b[?25hDownloading fasteners-0.19-py3-none-any.whl (18 kB)\n",
      "Downloading mda_xdrlib-0.2.0-py3-none-any.whl (14 kB)\n",
      "Downloading MDAnalysis-2.7.0-cp310-cp310-manylinux_2_17_x86_64.manylinux2014_x86_64.whl (10.1 MB)\n",
      "\u001b[2K   \u001b[90m━━━━━━━━━━━━━━━━━━━━━━━━━━━━━━━━━━━━━━━━\u001b[0m \u001b[32m10.1/10.1 MB\u001b[0m \u001b[31m37.8 MB/s\u001b[0m eta \u001b[36m0:00:00\u001b[0m00:01\u001b[0m0:01\u001b[0m\n",
      "\u001b[?25hDownloading msgpack-1.0.8-cp310-cp310-manylinux_2_17_x86_64.manylinux2014_x86_64.whl (385 kB)\n",
      "\u001b[2K   \u001b[90m━━━━━━━━━━━━━━━━━━━━━━━━━━━━━━━━━━━━━━━━\u001b[0m \u001b[32m385.1/385.1 kB\u001b[0m \u001b[31m9.3 MB/s\u001b[0m eta \u001b[36m0:00:00\u001b[0m:00:01\u001b[0m\n",
      "\u001b[?25hDownloading mrcfile-1.5.0-py2.py3-none-any.whl (44 kB)\n",
      "\u001b[2K   \u001b[90m━━━━━━━━━━━━━━━━━━━━━━━━━━━━━━━━━━━━━━━━\u001b[0m \u001b[32m44.1/44.1 kB\u001b[0m \u001b[31m873.3 kB/s\u001b[0m eta \u001b[36m0:00:00\u001b[0ma \u001b[36m0:00:01\u001b[0m\n",
      "\u001b[?25hInstalling collected packages: tqdm, tidynamics, msgpack, mrcfile, mda-xdrlib, fasteners, biopython, mmtf-python, GridDataFormats, MDAnalysis\n",
      "Successfully installed GridDataFormats-1.0.2 MDAnalysis-2.7.0 biopython-1.83 fasteners-0.19 mda-xdrlib-0.2.0 mmtf-python-1.1.3 mrcfile-1.5.0 msgpack-1.0.8 tidynamics-1.1.2 tqdm-4.66.2\n",
      "Note: you may need to restart the kernel to use updated packages.\n"
     ]
    }
   ],
   "source": [
    "pip install --upgrade MDAnalysis[analysis]"
   ]
  },
  {
   "cell_type": "code",
   "execution_count": 5,
   "metadata": {},
   "outputs": [
    {
     "name": "stdout",
     "output_type": "stream",
     "text": [
      "Collecting MDAnalysisTests\n",
      "  Downloading MDAnalysisTests-2.7.0.tar.gz (55.7 MB)\n",
      "\u001b[2K     \u001b[90m━━━━━━━━━━━━━━━━━━━━━━━━━━━━━━━━━━━━━━━━\u001b[0m \u001b[32m55.7/55.7 MB\u001b[0m \u001b[31m19.8 MB/s\u001b[0m eta \u001b[36m0:00:00\u001b[0m00:01\u001b[0m00:01\u001b[0m\n",
      "\u001b[?25h  Installing build dependencies ... \u001b[?25ldone\n",
      "\u001b[?25h  Getting requirements to build wheel ... \u001b[?25ldone\n",
      "\u001b[?25h  Installing backend dependencies ... \u001b[?25ldone\n",
      "\u001b[?25h  Preparing metadata (pyproject.toml) ... \u001b[?25ldone\n",
      "\u001b[?25hRequirement already satisfied: MDAnalysis==2.7.0 in /usr/local/python/3.10.13/lib/python3.10/site-packages (from MDAnalysisTests) (2.7.0)\n",
      "Collecting pytest>=3.3.0 (from MDAnalysisTests)\n",
      "  Downloading pytest-8.1.1-py3-none-any.whl.metadata (7.6 kB)\n",
      "Collecting hypothesis (from MDAnalysisTests)\n",
      "  Downloading hypothesis-6.99.6-py3-none-any.whl.metadata (6.3 kB)\n",
      "Requirement already satisfied: numpy<2.0,>=1.22.3 in /home/codespace/.local/lib/python3.10/site-packages (from MDAnalysis==2.7.0->MDAnalysisTests) (1.26.4)\n",
      "Requirement already satisfied: GridDataFormats>=0.4.0 in /usr/local/python/3.10.13/lib/python3.10/site-packages (from MDAnalysis==2.7.0->MDAnalysisTests) (1.0.2)\n",
      "Requirement already satisfied: mmtf-python>=1.0.0 in /usr/local/python/3.10.13/lib/python3.10/site-packages (from MDAnalysis==2.7.0->MDAnalysisTests) (1.1.3)\n",
      "Requirement already satisfied: joblib>=0.12 in /home/codespace/.local/lib/python3.10/site-packages (from MDAnalysis==2.7.0->MDAnalysisTests) (1.3.2)\n",
      "Requirement already satisfied: scipy>=1.5.0 in /home/codespace/.local/lib/python3.10/site-packages (from MDAnalysis==2.7.0->MDAnalysisTests) (1.12.0)\n",
      "Requirement already satisfied: matplotlib>=1.5.1 in /home/codespace/.local/lib/python3.10/site-packages (from MDAnalysis==2.7.0->MDAnalysisTests) (3.8.3)\n",
      "Requirement already satisfied: tqdm>=4.43.0 in /usr/local/python/3.10.13/lib/python3.10/site-packages (from MDAnalysis==2.7.0->MDAnalysisTests) (4.66.2)\n",
      "Requirement already satisfied: threadpoolctl in /home/codespace/.local/lib/python3.10/site-packages (from MDAnalysis==2.7.0->MDAnalysisTests) (3.3.0)\n",
      "Requirement already satisfied: packaging in /home/codespace/.local/lib/python3.10/site-packages (from MDAnalysis==2.7.0->MDAnalysisTests) (23.2)\n",
      "Requirement already satisfied: fasteners in /usr/local/python/3.10.13/lib/python3.10/site-packages (from MDAnalysis==2.7.0->MDAnalysisTests) (0.19)\n",
      "Requirement already satisfied: mda-xdrlib in /usr/local/python/3.10.13/lib/python3.10/site-packages (from MDAnalysis==2.7.0->MDAnalysisTests) (0.2.0)\n",
      "Collecting iniconfig (from pytest>=3.3.0->MDAnalysisTests)\n",
      "  Downloading iniconfig-2.0.0-py3-none-any.whl.metadata (2.6 kB)\n",
      "Collecting pluggy<2.0,>=1.4 (from pytest>=3.3.0->MDAnalysisTests)\n",
      "  Downloading pluggy-1.4.0-py3-none-any.whl.metadata (4.3 kB)\n",
      "Requirement already satisfied: exceptiongroup>=1.0.0rc8 in /home/codespace/.local/lib/python3.10/site-packages (from pytest>=3.3.0->MDAnalysisTests) (1.2.0)\n",
      "Requirement already satisfied: tomli>=1 in /home/codespace/.local/lib/python3.10/site-packages (from pytest>=3.3.0->MDAnalysisTests) (2.0.1)\n",
      "Requirement already satisfied: attrs>=22.2.0 in /home/codespace/.local/lib/python3.10/site-packages (from hypothesis->MDAnalysisTests) (23.2.0)\n",
      "Collecting sortedcontainers<3.0.0,>=2.1.0 (from hypothesis->MDAnalysisTests)\n",
      "  Downloading sortedcontainers-2.4.0-py2.py3-none-any.whl.metadata (10 kB)\n",
      "Requirement already satisfied: mrcfile in /usr/local/python/3.10.13/lib/python3.10/site-packages (from GridDataFormats>=0.4.0->MDAnalysis==2.7.0->MDAnalysisTests) (1.5.0)\n",
      "Requirement already satisfied: contourpy>=1.0.1 in /home/codespace/.local/lib/python3.10/site-packages (from matplotlib>=1.5.1->MDAnalysis==2.7.0->MDAnalysisTests) (1.2.0)\n",
      "Requirement already satisfied: cycler>=0.10 in /home/codespace/.local/lib/python3.10/site-packages (from matplotlib>=1.5.1->MDAnalysis==2.7.0->MDAnalysisTests) (0.12.1)\n",
      "Requirement already satisfied: fonttools>=4.22.0 in /home/codespace/.local/lib/python3.10/site-packages (from matplotlib>=1.5.1->MDAnalysis==2.7.0->MDAnalysisTests) (4.49.0)\n",
      "Requirement already satisfied: kiwisolver>=1.3.1 in /home/codespace/.local/lib/python3.10/site-packages (from matplotlib>=1.5.1->MDAnalysis==2.7.0->MDAnalysisTests) (1.4.5)\n",
      "Requirement already satisfied: pillow>=8 in /home/codespace/.local/lib/python3.10/site-packages (from matplotlib>=1.5.1->MDAnalysis==2.7.0->MDAnalysisTests) (10.2.0)\n",
      "Requirement already satisfied: pyparsing>=2.3.1 in /home/codespace/.local/lib/python3.10/site-packages (from matplotlib>=1.5.1->MDAnalysis==2.7.0->MDAnalysisTests) (3.1.1)\n",
      "Requirement already satisfied: python-dateutil>=2.7 in /home/codespace/.local/lib/python3.10/site-packages (from matplotlib>=1.5.1->MDAnalysis==2.7.0->MDAnalysisTests) (2.9.0.post0)\n",
      "Requirement already satisfied: msgpack>=1.0.0 in /usr/local/python/3.10.13/lib/python3.10/site-packages (from mmtf-python>=1.0.0->MDAnalysis==2.7.0->MDAnalysisTests) (1.0.8)\n",
      "Requirement already satisfied: six>=1.5 in /home/codespace/.local/lib/python3.10/site-packages (from python-dateutil>=2.7->matplotlib>=1.5.1->MDAnalysis==2.7.0->MDAnalysisTests) (1.16.0)\n",
      "Downloading pytest-8.1.1-py3-none-any.whl (337 kB)\n",
      "\u001b[2K   \u001b[90m━━━━━━━━━━━━━━━━━━━━━━━━━━━━━━━━━━━━━━━━\u001b[0m \u001b[32m337.4/337.4 kB\u001b[0m \u001b[31m6.8 MB/s\u001b[0m eta \u001b[36m0:00:00\u001b[0mta \u001b[36m0:00:01\u001b[0m\n",
      "\u001b[?25hDownloading hypothesis-6.99.6-py3-none-any.whl (455 kB)\n",
      "\u001b[2K   \u001b[90m━━━━━━━━━━━━━━━━━━━━━━━━━━━━━━━━━━━━━━━━\u001b[0m \u001b[32m455.8/455.8 kB\u001b[0m \u001b[31m9.7 MB/s\u001b[0m eta \u001b[36m0:00:00\u001b[0m:00:01\u001b[0m\n",
      "\u001b[?25hDownloading pluggy-1.4.0-py3-none-any.whl (20 kB)\n",
      "Downloading sortedcontainers-2.4.0-py2.py3-none-any.whl (29 kB)\n",
      "Downloading iniconfig-2.0.0-py3-none-any.whl (5.9 kB)\n",
      "Building wheels for collected packages: MDAnalysisTests\n",
      "  Building wheel for MDAnalysisTests (pyproject.toml) ... \u001b[?25ldone\n",
      "\u001b[?25h  Created wheel for MDAnalysisTests: filename=MDAnalysisTests-2.7.0-py3-none-any.whl size=56061958 sha256=8db858fce38b0db0e57651e80824cbef7ae8588903bc340caacd7ba3400fac7e\n",
      "  Stored in directory: /home/codespace/.cache/pip/wheels/32/66/0a/3d0bf05683e4b2e9a86f5a56445228d642f33d1e933c8ea397\n",
      "Successfully built MDAnalysisTests\n",
      "Installing collected packages: sortedcontainers, pluggy, iniconfig, hypothesis, pytest, MDAnalysisTests\n",
      "Successfully installed MDAnalysisTests-2.7.0 hypothesis-6.99.6 iniconfig-2.0.0 pluggy-1.4.0 pytest-8.1.1 sortedcontainers-2.4.0\n",
      "Note: you may need to restart the kernel to use updated packages.\n"
     ]
    }
   ],
   "source": [
    "pip install --upgrade MDAnalysisTests"
   ]
  },
  {
   "cell_type": "code",
   "execution_count": 6,
   "metadata": {},
   "outputs": [
    {
     "name": "stderr",
     "output_type": "stream",
     "text": [
      "/home/codespace/.python/current/lib/python3.10/site-packages/tqdm/auto.py:21: TqdmWarning: IProgress not found. Please update jupyter and ipywidgets. See https://ipywidgets.readthedocs.io/en/stable/user_install.html\n",
      "  from .autonotebook import tqdm as notebook_tqdm\n"
     ]
    }
   ],
   "source": [
    "import MDAnalysis as mda\n",
    "from MDAnalysis import Universe\n",
    "from MDAnalysis.tests.datafiles import PDB, GRO, XTC,TPR\n",
    "import pandas as pd\n",
    "import numpy as np\n",
    "import math\n",
    "import matplotlib.pyplot as plt\n",
    "from numpy.linalg import norm\n",
    "from numpy import array\n",
    "import matplotlib.pyplot as plt\n",
    "from MDAnalysis.analysis import distances\n",
    "import MDAnalysis.lib.mdamath as math_help"
   ]
  },
  {
   "cell_type": "code",
   "execution_count": 1,
   "metadata": {},
   "outputs": [],
   "source": [
    "#Calculating the number of crystalline molecules around a given molecule \n",
    "def calc_nc(all_grp,res_num,cutoff):\n",
    "    \"\"\"this function calculates the number of crystalline molecules,\n",
    "        it requires the residues of all the molecules (all_grp),\n",
    "        res_num is a specific residue number around which you wish to calculate crystalline molecules,\n",
    "        cutoff specifies the radial distance within which number of molecules are estimated,\n",
    "        nc gives the desired output\"\"\"\n",
    "    g1=all_grp.select_atoms('resid {0}'.format(res_num))\n",
    "    com_1=g1.center_of_mass(compound='residues')\n",
    "    g2=all_grp.select_atoms('resid {0}-{1}'.format(1,res_num-1),'resid {0}-{1}'.format(res_num+1,all_grp.resnums[-1]))\n",
    "    com_2=g2.center_of_mass(compound='residues')\n",
    "    dist=(distances.distance_array(com_1,com_2,all_grp.dimensions))/10 # distances are converted in nm when divided by 10\n",
    "    nc=0\n",
    "    for i in dist[0]:\n",
    "        if i<cutoff:\n",
    "            nc+=1\n",
    "    return(nc)            "
   ]
  },
  {
   "cell_type": "code",
   "execution_count": null,
   "metadata": {},
   "outputs": [],
   "source": [
    "optimum_nc=calc_nc(all_grp,res_num,cutoff)"
   ]
  },
  {
   "cell_type": "code",
   "execution_count": 2,
   "metadata": {},
   "outputs": [],
   "source": [
    "def local_density(res_num_i,sd):\n",
    "    \"\"\" this function calculates local density contribution from a given molecule(res_num_i)\n",
    "     sd stands for standard deviation associated with nc  \"\"\"\n",
    "    nc=calc_nc(all_grp,res_num_i,cutoff)\n",
    "    if calc_nc(res_num_i)<=optimum_nc:\n",
    "        local_density=math.exp(-(nc-optimum_nc)**2/(2*(sd**2)))\n",
    "    else:\n",
    "        local_density=1\n",
    "    return(local_density)        "
   ]
  },
  {
   "cell_type": "code",
   "execution_count": null,
   "metadata": {},
   "outputs": [],
   "source": [
    "def local_order(vector_1,vector_2,theta_0,theta_1,sd_0,sd_1):\n",
    "    \"\"\"this function calculates the local_order for a given residue\n",
    "    theta_0 and theta_1 are the angles most commonly observed in the crystal lattice for a specific bond vector\n",
    "    sd_0 and sd_1 are the correspomding standard deviations associated with the gaussian distributions of theta_0 and theta_1\"\"\"\n",
    "    angle_radians=math_help.angle(vector_2[0],vector_1[0])\n",
    "    local_order_contri=math.exp(-(angle_radians-theta_0)**2/(2*(sd_0**2))) + math.exp(-(angle_radians-theta_1)**2/(2*(sd_1**2)))\n",
    "    return(local_order_contri)"
   ]
  },
  {
   "cell_type": "markdown",
   "metadata": {},
   "source": [
    "---Main block starts here---"
   ]
  },
  {
   "cell_type": "code",
   "execution_count": null,
   "metadata": {},
   "outputs": [],
   "source": [
    "#num_crystalline stores the total number of crystalline molecules for entire trajectory\n",
    "num_crystalline=[]\n",
    "for ts in all_grp.trajectory:\n",
    "  contribution=0\n",
    "  for i in f.residues:\n",
    "    g1=all_grp.select_atoms('resid {0}'.format(i.resid))\n",
    "    c1=g1.center_of_mass(compound='residues')\n",
    "    g2=all_grp.select_atoms('resid {0}-{1}'.format(1,i.resid-1),'resid {0}-{1}'.format(i.resid+1,456))\n",
    "    c2=g2.center_of_mass(compound='residues')\n",
    "    dist_arr=distances.distance_array(c1,c2,all_grp.dimensions)/10 \n",
    "    #defining the vector along carbonyl bond for the chosen residue\n",
    "    v1_atom_1=all_grp.select_atoms('resid {0} and name C'.format(i.resid))\n",
    "    v1_atom_2=all_grp.select_atoms('resid {0} and name O'.format(i.resid))\n",
    "    v1=v1_atom_2.positions-v1_atom_1.positions\n",
    "    nc=0\n",
    "    counter=1\n",
    "    local_order=0\n",
    "    for j in dist_arr[0]:\n",
    "      if j<cutoff:\n",
    "        v2_atom_1=f.select_atoms('resid {0} and name C'.format(counter))\n",
    "        v2_atom_2=f.select_atoms('resid {0} and name O'.format(counter))\n",
    "        v2=v2_atom_2.positions-v2_atom_1.positions\n",
    "        local_order_contri=local_order_contri(v1,v2,theta_0,theta_1,sd_angle_0,sd_angle_1)\n",
    "        local_order=local_order+local_order_contri\n",
    "      counter+=1\n",
    "    if local_density(i,sd_num)!=0:\n",
    "      local_order=local_order/local_density()\n",
    "    local_density=local_density(i,sd_num)\n",
    "    contribution=contribution+(local_density*local_order)\n",
    "  num_crystalline.append(contribution)"
   ]
  },
  {
   "cell_type": "code",
   "execution_count": 1,
   "metadata": {},
   "outputs": [
    {
     "ename": "NameError",
     "evalue": "name 'mda' is not defined",
     "output_type": "error",
     "traceback": [
      "\u001b[0;31m---------------------------------------------------------------------------\u001b[0m",
      "\u001b[0;31mNameError\u001b[0m                                 Traceback (most recent call last)",
      "Cell \u001b[0;32mIn[1], line 1\u001b[0m\n\u001b[0;32m----> 1\u001b[0m all_grp\u001b[38;5;241m=\u001b[39m\u001b[43mmda\u001b[49m\u001b[38;5;241m.\u001b[39mUniverse(f1,f2)\n\u001b[1;32m      2\u001b[0m \u001b[38;5;66;03m#f1 is a .tpr file(the topology file) \u001b[39;00m\n\u001b[1;32m      3\u001b[0m \u001b[38;5;66;03m#f2 is a .gro/.xtc file\u001b[39;00m\n",
      "\u001b[0;31mNameError\u001b[0m: name 'mda' is not defined"
     ]
    }
   ],
   "source": [
    "all_grp=mda.Universe(f1,f2)\n",
    "#f1 is a .tpr file(the topology file) \n",
    "#f2 is a .gro/.xtc file\n"
   ]
  },
  {
   "cell_type": "code",
   "execution_count": null,
   "metadata": {},
   "outputs": [],
   "source": [
    "# the time of the frames is stored in timestep\n",
    "timestep=[]\n",
    "for ts in all_grp.trajectory[1:400]:\n",
    "  timestep.append(ts.time/1000)"
   ]
  },
  {
   "cell_type": "code",
   "execution_count": null,
   "metadata": {},
   "outputs": [],
   "source": [
    "#plot of number of crystalline molecules as a function of time\n",
    "plt.plot(timestep,num_crystalline)\n",
    "plt.xlabel(\"time(ns)\",fontsize=15,weight=\"bold\")\n",
    "plt.ylabel(\"Nc\",fontsize=15,weight=\"bold\")\n",
    "plt.grid()\n",
    "plt.show()"
   ]
  }
 ],
 "metadata": {
  "kernelspec": {
   "display_name": "Python 3 (ipykernel)",
   "language": "python",
   "name": "python3"
  },
  "language_info": {
   "codemirror_mode": {
    "name": "ipython",
    "version": 3
   },
   "file_extension": ".py",
   "mimetype": "text/x-python",
   "name": "python",
   "nbconvert_exporter": "python",
   "pygments_lexer": "ipython3",
   "version": "3.10.13"
  }
 },
 "nbformat": 4,
 "nbformat_minor": 2
}
